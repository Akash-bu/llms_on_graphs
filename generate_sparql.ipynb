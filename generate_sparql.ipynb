{
 "cells": [
  {
   "cell_type": "code",
   "execution_count": 4,
   "metadata": {},
   "outputs": [],
   "source": [
    "from langchain.chains import GraphSparqlQAChain\n",
    "from langchain_community.graphs import RdfGraph\n",
    "from langchain_openai import ChatOpenAI"
   ]
  },
  {
   "cell_type": "code",
   "execution_count": 5,
   "metadata": {},
   "outputs": [],
   "source": [
    "graph = RdfGraph(\n",
    "    source_file = \"http://www.w3.org/People/Berners-Lee/card\",\n",
    "    standard = \"rdf\",\n",
    "    local_copy = \"test.ttl\"\n",
    ")"
   ]
  },
  {
   "cell_type": "code",
   "execution_count": 6,
   "metadata": {},
   "outputs": [
    {
     "data": {
      "text/plain": [
       "'In the following, each IRI is followed by the local name and optionally its description in parentheses. \\nThe RDF graph supports the following node types:\\n<http://xmlns.com/foaf/0.1/PersonalProfileDocument> (PersonalProfileDocument, None), <http://www.w3.org/ns/auth/cert#RSAPublicKey> (RSAPublicKey, None), <http://www.w3.org/2000/10/swap/pim/contact#Male> (Male, None), <http://xmlns.com/foaf/0.1/Person> (Person, None), <http://www.w3.org/2006/vcard/ns#Work> (Work, None)\\nThe RDF graph supports the following relationships:\\n<http://purl.org/dc/elements/1.1/title> (title, None), <http://xmlns.com/foaf/0.1/title> (title, None), <http://xmlns.com/foaf/0.1/openid> (openid, None), <http://xmlns.com/foaf/0.1/account> (account, None), <http://www.w3.org/2006/vcard/ns#fn> (fn, None), <http://xmlns.com/foaf/0.1/mbox> (mbox, None), <http://usefulinc.com/ns/doap#developer> (developer, None), <http://www.w3.org/2000/10/swap/pim/contact#office> (office, None), <http://xmlns.com/foaf/0.1/based_near> (based_near, None), <http://xmlns.com/foaf/0.1/givenname> (givenname, None), <http://xmlns.com/foaf/0.1/maker> (maker, None), <http://www.w3.org/ns/ldp#inbox> (inbox, None), <http://www.w3.org/ns/solid/terms#editableProfile> (editableProfile, None), <http://creativecommons.org/ns#license> (license, None), <http://xmlns.com/foaf/0.1/member> (member, None), <http://www.w3.org/1999/02/22-rdf-syntax-ns#type> (type, None), <http://www.w3.org/2000/01/rdf-schema#seeAlso> (seeAlso, None), <http://www.w3.org/ns/pim/space#storage> (storage, None), <http://www.w3.org/2003/01/geo/wgs84_pos#lat> (lat, None), <http://xmlns.com/foaf/0.1/weblog> (weblog, None), <http://xmlns.com/foaf/0.1/nick> (nick, None), <http://xmlns.com/foaf/0.1/mbox_sha1sum> (mbox_sha1sum, None), <http://www.w3.org/2000/10/swap/pim/contact#assistant> (assistant, None), <http://xmlns.com/foaf/0.1/primaryTopic> (primaryTopic, None), <http://schema.org/owns> (owns, None), <http://www.w3.org/ns/solid/terms#publicTypeIndex> (publicTypeIndex, None), <http://xmlns.com/foaf/0.1/family_name> (family_name, None), <http://www.w3.org/2000/01/rdf-schema#label> (label, None), <http://xmlns.com/foaf/0.1/img> (img, None), <http://www.w3.org/2000/10/swap/pim/contact#city> (city, None), <http://xmlns.com/foaf/0.1/homepage> (homepage, None), <http://www.w3.org/ns/auth/cert#key> (key, None), <http://www.w3.org/ns/solid/terms#profileBackgroundColor> (profileBackgroundColor, None), <http://www.w3.org/2006/vcard/ns#region> (region, None), <http://www.w3.org/2006/vcard/ns#street-address> (street-address, None), <http://www.w3.org/2000/10/swap/pim/contact#homePage> (homePage, None), <http://purl.org/dc/terms/title> (title, None), <http://www.w3.org/2006/vcard/ns#locality> (locality, None), <http://www.w3.org/ns/solid/terms#oidcIssuer> (oidcIssuer, None), <http://www.w3.org/2006/vcard/ns#postal-code> (postal-code, None), <http://www.w3.org/2006/vcard/ns#hasAddress> (hasAddress, None), <http://www.w3.org/2003/01/geo/wgs84_pos#long> (long, None), <http://xmlns.com/foaf/0.1/name> (name, None), <http://www.w3.org/2000/10/swap/pim/contact#participant> (participant, None), <http://www.w3.org/2000/10/swap/pim/contact#postalCode> (postalCode, None), <http://rdfs.org/sioc/ns#avatar> (avatar, None), <http://www.w3.org/2003/01/geo/wgs84_pos#location> (location, None), <http://www.w3.org/2000/10/swap/pim/contact#address> (address, None), <http://www.w3.org/ns/pim/space#preferencesFile> (preferencesFile, None), <http://xmlns.com/foaf/0.1/workplaceHomepage> (workplaceHomepage, None), <http://www.w3.org/2000/10/swap/pim/contact#country> (country, None), <http://www.w3.org/2000/10/swap/pim/contact#street2> (street2, None), <http://www.w3.org/2000/10/swap/pim/contact#preferredURI> (preferredURI, None), <http://www.w3.org/ns/auth/cert#exponent> (exponent, None), <http://www.w3.org/2000/10/swap/pim/contact#street> (street, None), <http://www.w3.org/2000/10/swap/pim/contact#publicHomePage> (publicHomePage, None), <http://www.w3.org/ns/solid/terms#profileHighlightColor> (profileHighlightColor, None), <http://www.w3.org/ns/auth/cert#modulus> (modulus, None)\\n'"
      ]
     },
     "execution_count": 6,
     "metadata": {},
     "output_type": "execute_result"
    }
   ],
   "source": [
    "graph.load_schema()\n",
    "graph.get_schema"
   ]
  },
  {
   "cell_type": "code",
   "execution_count": 7,
   "metadata": {},
   "outputs": [],
   "source": [
    "#Querying the graph"
   ]
  },
  {
   "cell_type": "code",
   "execution_count": 9,
   "metadata": {},
   "outputs": [],
   "source": [
    "chain = GraphSparqlQAChain.from_llm(\n",
    "    ChatOpenAI(temperature = 0),\n",
    "    graph = graph,\n",
    "    verbose = True,\n",
    "    allow_dangerous_requests = True\n",
    ")"
   ]
  },
  {
   "cell_type": "code",
   "execution_count": 14,
   "metadata": {},
   "outputs": [],
   "source": [
    "instruction = \"When you make the final query, remove these ``` quotes and only have the query \\n\"\n",
    "query = \"What is Tim Berners-Lee's work homepage?\"\n",
    "\n",
    "prompt = instruction + query\n"
   ]
  },
  {
   "cell_type": "code",
   "execution_count": 15,
   "metadata": {},
   "outputs": [
    {
     "name": "stdout",
     "output_type": "stream",
     "text": [
      "\n",
      "\n",
      "\u001b[1m> Entering new GraphSparqlQAChain chain...\u001b[0m\n",
      "Identified intent:\n",
      "\u001b[32;1m\u001b[1;3mSELECT\u001b[0m\n",
      "Generated SPARQL:\n",
      "\u001b[32;1m\u001b[1;3mPREFIX foaf: <http://xmlns.com/foaf/0.1/>\n",
      "SELECT ?workHomepage\n",
      "WHERE {\n",
      "    ?person foaf:name \"Tim Berners-Lee\" .\n",
      "    ?person foaf:workplaceHomepage ?workHomepage .\n",
      "}\u001b[0m\n",
      "Full Context:\n",
      "\u001b[32;1m\u001b[1;3m[]\u001b[0m\n",
      "\n",
      "\u001b[1m> Finished chain.\u001b[0m\n"
     ]
    },
    {
     "data": {
      "text/plain": [
       "\"Tim Berners-Lee's work homepage is http://www.w3.org/People/Berners-Lee/.\""
      ]
     },
     "execution_count": 15,
     "metadata": {},
     "output_type": "execute_result"
    }
   ],
   "source": [
    "chain.run(prompt)"
   ]
  },
  {
   "cell_type": "code",
   "execution_count": null,
   "metadata": {},
   "outputs": [],
   "source": []
  }
 ],
 "metadata": {
  "kernelspec": {
   "display_name": "venv",
   "language": "python",
   "name": "python3"
  },
  "language_info": {
   "codemirror_mode": {
    "name": "ipython",
    "version": 3
   },
   "file_extension": ".py",
   "mimetype": "text/x-python",
   "name": "python",
   "nbconvert_exporter": "python",
   "pygments_lexer": "ipython3",
   "version": "3.11.0"
  }
 },
 "nbformat": 4,
 "nbformat_minor": 2
}
